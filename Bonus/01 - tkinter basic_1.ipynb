{
 "cells": [
  {
   "cell_type": "markdown",
   "metadata": {},
   "source": [
    "# Python-Tkinter Basics"
   ]
  },
  {
   "cell_type": "markdown",
   "metadata": {},
   "source": [
    "1. Why GUI?\n",
    "    - In simple words to provide simple Graphical User Interface to end users.\n",
    "    - allowing users to interact with programs through graphical elements like windows, buttons, menus, etc. \n",
    "    - GUIs make software easier to navigate and use compared to text-based interfaces.\n",
    "2. What is Tkinter\n",
    "      - Tkinter is a standard GUI (Graphical User Interface) toolkit for Python. \n",
    "      - Tkinter is python interface for tk()\n",
    "      - Tkinter first release was in 1991\n",
    "3. Why Tkinter?\n",
    "    - easy to use\n",
    "    - Tkinter has a wide range of widgets (UI elements) available for creating interactive interfaces.\n",
    "    - cross-platform, meaning they can run on different operating systems without modification.\n",
    "4. Other packages?\n",
    "    - **PyQt/PySide:** These are more powerful GUI frameworks that offer more features and flexibility compared to Tkinter.\n",
    "    - **Kivy:** It is mainly used for creating mobile applications but can also be used for desktop applications.\n",
    "    - **wxPython:** It is a wrapper around the popular cross-platform GUI framework wxWidgets.\n",
    "    - **PyGTK:** A set of Python wrappers for the GTK+ graphical user interface library, which is used in the GNOME desktop environment.\n"
   ]
  },
  {
   "cell_type": "markdown",
   "metadata": {},
   "source": [
    "## Widgets:\n",
    "\n",
    "- button\n",
    "- canvas\n",
    "    + Drawing simple shapes like lines, rectangles, ovals, and polygons\n",
    "    + Placing images on the canvas\n",
    "    + Creating interactive elements such as buttons or checkboxes\n",
    "    + Implementing custom widgets and graphics\n",
    "- checkbutton\n",
    "- combobox\n",
    "- entry\n",
    "- frame\n",
    "- label\n",
    "- labelframe\n",
    "- listbox\n",
    "- menu\n",
    "- menubutton\n",
    "- message\n",
    "- notebook\n",
    "- tk_optionMenu\n",
    "- panedwindow\n",
    "- progressbar\n",
    "- radiobutton\n",
    "- scale\n",
    "- scrollbar\n",
    "- separator\n",
    "- sizegrip\n",
    "- spinbox\n",
    "- text\n",
    "- treeview"
   ]
  },
  {
   "cell_type": "code",
   "execution_count": 2,
   "metadata": {},
   "outputs": [],
   "source": [
    "import tkinter as tk\n",
    "from tkinter import ttk\n",
    "\n",
    "def on_button_click():\n",
    "    print(\"Button clicked!\")\n",
    "\n",
    "root = tk.Tk()\n",
    "root.title(\"Widgets Example\")\n",
    "\n",
    "button = tk.Button(root, text=\"Button\", command=on_button_click)\n",
    "button.pack()\n",
    "\n",
    "canvas = tk.Canvas(root, width=200, height=100, bg='white')\n",
    "canvas.pack()\n",
    "\n",
    "checkbutton = tk.Checkbutton(root, text=\"Checkbutton\")\n",
    "checkbutton.pack()\n",
    "\n",
    "combobox = ttk.Combobox(root, values=[\"Option 1\", \"Option 2\", \"Option 3\"])\n",
    "combobox.pack()\n",
    "\n",
    "# Entry widget\n",
    "entry = tk.Entry(root)\n",
    "entry.pack()\n",
    "\n",
    "# Frame widget\n",
    "frame = tk.Frame(root)\n",
    "frame.pack()\n",
    "\n",
    "# Label widget\n",
    "label = tk.Label(root, text=\"Label\")\n",
    "label.pack()\n",
    "\n",
    "# Labelframe widget\n",
    "labelframe = ttk.LabelFrame(root, text=\"Labelframe\")\n",
    "labelframe.pack()\n",
    "\n",
    "# Listbox widget\n",
    "listbox = tk.Listbox(root)\n",
    "listbox.pack()\n",
    "\n",
    "# Menu widget\n",
    "menu = tk.Menu(root)\n",
    "root.config(menu=menu)\n",
    "\n",
    "# Menubutton widget\n",
    "menubutton = tk.Menubutton(root, text=\"Menubutton\")\n",
    "menubutton.pack()\n",
    "\n",
    "# Message widget\n",
    "message = tk.Message(root, text=\"This is a message.\")\n",
    "message.pack()\n",
    "\n",
    "# Notebook widget\n",
    "notebook = ttk.Notebook(root)\n",
    "notebook.pack()\n",
    "\n",
    "# OptionMenu widget\n",
    "opt_var = tk.StringVar()\n",
    "option_menu = tk.OptionMenu(root, opt_var, \"Option 1\", \"Option 2\", \"Option 3\")\n",
    "option_menu.pack()\n",
    "\n",
    "# PanedWindow widget\n",
    "panedwindow = ttk.Panedwindow(root, orient=tk.HORIZONTAL)\n",
    "panedwindow.pack()\n",
    "\n",
    "# Progressbar widget\n",
    "progressbar = ttk.Progressbar(root, length=200, mode='indeterminate')\n",
    "progressbar.pack()\n",
    "\n",
    "# Radiobutton widget\n",
    "radiobutton = tk.Radiobutton(root, text=\"Radiobutton\")\n",
    "radiobutton.pack()\n",
    "\n",
    "# Scale widget\n",
    "scale = tk.Scale(root, from_=0, to=100, orient=tk.HORIZONTAL)\n",
    "scale.pack()\n",
    "\n",
    "# Scrollbar widget\n",
    "scrollbar = ttk.Scrollbar(root)\n",
    "scrollbar.pack()\n",
    "\n",
    "# Separator widget\n",
    "separator = ttk.Separator(root, orient=tk.HORIZONTAL)\n",
    "separator.pack()\n",
    "\n",
    "# Sizegrip widget\n",
    "sizegrip = ttk.Sizegrip(root)\n",
    "sizegrip.pack()\n",
    "\n",
    "# Spinbox widget\n",
    "spinbox = tk.Spinbox(root, from_=0, to=10)\n",
    "spinbox.pack()\n",
    "\n",
    "# Text widget\n",
    "text = tk.Text(root, height=5, width=30)\n",
    "text.pack()\n",
    "\n",
    "# Treeview widget\n",
    "treeview = ttk.Treeview(root)\n",
    "treeview.pack()\n",
    "\n",
    "root.mainloop()"
   ]
  },
  {
   "cell_type": "markdown",
   "metadata": {},
   "source": [
    "## Top-level windows:\n",
    "\n",
    "- tk_chooseColorpops  : up a dialog box for the user to select a color.\n",
    "- tk_chooseDirectory  : pops up a dialog box for the user to select a directory.\n",
    "- tk_dialog           : creates a modal dialog and waits for a response.\n",
    "- tk_getOpenFile      : pops up a dialog box for the user to select a file to open.\n",
    "- tk_getSaveFile      : pops up a dialog box for the user to select a file to save.\n",
    "- tk_messageBox       : pops up a message window and waits for a user response.\n",
    "- tk_popup            : posts a popup menu.\n",
    "- toplevel            : creates and manipulates toplevel widgets."
   ]
  },
  {
   "cell_type": "markdown",
   "metadata": {},
   "source": [
    "## Geometry managers:\n",
    "1. place : which positions widgets at absolute locations\n",
    "2. grid  : which arranges widgets in a grid\n",
    "3. pack  : which packs widgets into a cavity"
   ]
  },
  {
   "cell_type": "markdown",
   "metadata": {},
   "source": [
    "## Package Installation\n",
    "- pip install tkinter"
   ]
  },
  {
   "cell_type": "markdown",
   "metadata": {},
   "source": [
    "## Usage"
   ]
  },
  {
   "cell_type": "code",
   "execution_count": 1,
   "metadata": {},
   "outputs": [],
   "source": [
    "# python 2.x\n",
    "#from Tkinter import *\n",
    "\n",
    "# python 3.x\n",
    "from tkinter import *"
   ]
  },
  {
   "cell_type": "code",
   "execution_count": 8,
   "metadata": {
    "collapsed": true
   },
   "outputs": [],
   "source": [
    "# add a primary widget\n",
    "root = Tk()\n",
    "\n",
    "# add your frame data here\n"
   ]
  },
  {
   "cell_type": "code",
   "execution_count": 9,
   "metadata": {
    "collapsed": true
   },
   "outputs": [],
   "source": [
    "# close main loop\n",
    "root.mainloop()"
   ]
  },
  {
   "cell_type": "markdown",
   "metadata": {},
   "source": [
    "# Tkinter: Labels\n",
    "____\n",
    "- Label is simple think to display view only data\n",
    "- With label you can not interact\n",
    "- Mainly two type of labels\n",
    "    1. text label\n",
    "    2. image label"
   ]
  },
  {
   "cell_type": "code",
   "execution_count": 5,
   "metadata": {},
   "outputs": [],
   "source": [
    "root = Tk()\n",
    "\n",
    "w = Label(root,text=\"Hello Tkinter\")\n",
    "w.pack()\n",
    "root.mainloop()"
   ]
  },
  {
   "cell_type": "markdown",
   "metadata": {},
   "source": [
    ".pack() method tell Tk to fit the size of window to the given text"
   ]
  },
  {
   "cell_type": "markdown",
   "metadata": {},
   "source": [
    "## Dynamcally change the Label Value"
   ]
  },
  {
   "cell_type": "code",
   "execution_count": 7,
   "metadata": {},
   "outputs": [],
   "source": [
    "c=0\n",
    "def stop():\n",
    "    root.destroy()\n",
    "\n",
    "def start():\n",
    "    def count():\n",
    "        global c\n",
    "        c+=1\n",
    "        w.config(text=str(c))\n",
    "        w.after(100,count)\n",
    "    count()"
   ]
  },
  {
   "cell_type": "code",
   "execution_count": 8,
   "metadata": {},
   "outputs": [],
   "source": [
    "root = Tk()\n",
    "root.title(\"Drynamic Label\")\n",
    "w = Label(root, justify=CENTER) #justify options are : LEFT, RIGHT, CENTER\n",
    "w.pack()\n",
    "start()\n",
    "b= Button(root, text=\"Stop\", command = stop)\n",
    "b.pack()\n",
    "root.mainloop()"
   ]
  },
  {
   "cell_type": "markdown",
   "metadata": {},
   "source": [
    "## Use Image as Label"
   ]
  },
  {
   "cell_type": "code",
   "execution_count": 6,
   "metadata": {},
   "outputs": [],
   "source": [
    "root = Toplevel()\n",
    "logo = PhotoImage(file=\"tk.png\")\n",
    "w = Label(root,image=logo)\n",
    "w.pack()\n",
    "root.mainloop()"
   ]
  },
  {
   "cell_type": "markdown",
   "metadata": {},
   "source": [
    "## Applying Color and diffrent Font to Label"
   ]
  },
  {
   "cell_type": "code",
   "execution_count": 8,
   "metadata": {},
   "outputs": [],
   "source": [
    "root = Tk()\n",
    "data = \"Python Pune\"\n",
    "w = Label(root, fg='white', bg='black', text=data, font=(\"Helvetica\", 16))\n",
    "w.pack()\n",
    "root.mainloop()"
   ]
  },
  {
   "cell_type": "code",
   "execution_count": null,
   "metadata": {},
   "outputs": [],
   "source": []
  }
 ],
 "metadata": {
  "kernelspec": {
   "display_name": "Python 3 (ipykernel)",
   "language": "python",
   "name": "python3"
  },
  "language_info": {
   "codemirror_mode": {
    "name": "ipython",
    "version": 3
   },
   "file_extension": ".py",
   "mimetype": "text/x-python",
   "name": "python",
   "nbconvert_exporter": "python",
   "pygments_lexer": "ipython3",
   "version": "3.10.6"
  }
 },
 "nbformat": 4,
 "nbformat_minor": 2
}
