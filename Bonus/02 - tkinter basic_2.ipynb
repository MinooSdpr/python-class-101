{
 "cells": [
  {
   "cell_type": "markdown",
   "metadata": {},
   "source": [
    "# Tkinter: Buttons"
   ]
  },
  {
   "cell_type": "markdown",
   "metadata": {},
   "source": [
    "- Button is another standard widget in python tkinter lib\n",
    "- With button you can interact with program \n",
    "- In Label text and be display in diffrent font but in button single only\n",
    "- In button you can use text as well as Image"
   ]
  },
  {
   "cell_type": "code",
   "execution_count": 1,
   "metadata": {},
   "outputs": [],
   "source": [
    "from tkinter import *\n",
    "import time"
   ]
  },
  {
   "cell_type": "code",
   "execution_count": 2,
   "metadata": {},
   "outputs": [],
   "source": [
    "root = Tk()"
   ]
  },
  {
   "cell_type": "code",
   "execution_count": 3,
   "metadata": {},
   "outputs": [],
   "source": [
    "def start_button():\n",
    "    print(\"Start Button Work\")"
   ]
  },
  {
   "cell_type": "code",
   "execution_count": 4,
   "metadata": {},
   "outputs": [],
   "source": [
    "def stop_button():\n",
    "    print(\"Stop Button Wrok\")"
   ]
  },
  {
   "cell_type": "code",
   "execution_count": 5,
   "metadata": {},
   "outputs": [],
   "source": [
    "button_start = Button(root, text=\"start\", width=15, command=start_button)\n",
    "\n",
    "button_stop = Button(root, text=\"stop\", width=15, command=stop_button)\n",
    "\n",
    "button_start.pack()\n",
    "button_stop.pack()"
   ]
  },
  {
   "cell_type": "code",
   "execution_count": 6,
   "metadata": {},
   "outputs": [
    {
     "name": "stdout",
     "output_type": "stream",
     "text": [
      "Start Button Work\n",
      "Stop Button Wrok\n"
     ]
    }
   ],
   "source": [
    "root.mainloop()"
   ]
  },
  {
   "cell_type": "markdown",
   "metadata": {},
   "source": [
    "## Radio Button"
   ]
  },
  {
   "cell_type": "markdown",
   "metadata": {},
   "source": [
    "- Radio Button, sometime called option button, which allow user to choose one of predefine set of options.\n",
    "- Radio button can contain text or images\n",
    "- The button can only display text in single font\n",
    "- A python fuction or method can be associated with radio button. That fuction or method will be called as you press this radio button"
   ]
  },
  {
   "cell_type": "code",
   "execution_count": 7,
   "metadata": {},
   "outputs": [
    {
     "data": {
      "text/plain": [
       "''"
      ]
     },
     "execution_count": 7,
     "metadata": {},
     "output_type": "execute_result"
    }
   ],
   "source": [
    "from tkinter import *\n",
    "root = Tk()\n",
    "root.title(\"Radio Button\")"
   ]
  },
  {
   "cell_type": "code",
   "execution_count": 8,
   "metadata": {},
   "outputs": [],
   "source": [
    "Label(root, text=\"Select True or False\", justify=LEFT).pack()"
   ]
  },
  {
   "cell_type": "markdown",
   "metadata": {},
   "source": [
    "#### Variables in Tkinter:\n",
    "    - StringVar() : Hold a string and default value is \"\"\n",
    "    - IntVar()    : Hold a integer and default value is 0\n",
    "    - DoubleVar() : Hold a float and default value is 0.0\n",
    "    - BooleanVar(): Hold a boolean and return True or False\n",
    "    "
   ]
  },
  {
   "cell_type": "code",
   "execution_count": 9,
   "metadata": {},
   "outputs": [],
   "source": [
    "data = BooleanVar()\n",
    "\n",
    "def data_print():\n",
    "    print(data.get())"
   ]
  },
  {
   "cell_type": "code",
   "execution_count": 10,
   "metadata": {},
   "outputs": [],
   "source": [
    "true_button = Radiobutton(root, text = \"Ture\",variable=data,value= True, padx=20,\n",
    "                          pady=5,\n",
    "                          command = data_print)\n",
    "\n",
    "false_button = Radiobutton(root, text = \"False\", variable=data, value= False, padx=20,\n",
    "                           pady=5,\n",
    "                           command = data_print)\n",
    "true_button.pack()\n",
    "false_button.pack()"
   ]
  },
  {
   "cell_type": "code",
   "execution_count": 11,
   "metadata": {},
   "outputs": [
    {
     "name": "stdout",
     "output_type": "stream",
     "text": [
      "True\n",
      "False\n",
      "True\n"
     ]
    }
   ],
   "source": [
    "root.mainloop()"
   ]
  },
  {
   "cell_type": "markdown",
   "metadata": {},
   "source": [
    "# Tkinter: Entry"
   ]
  },
  {
   "cell_type": "markdown",
   "metadata": {},
   "source": [
    "- Entry widget used for taking input form user in text \n",
    "- This widget allows the user to enter a single line of text\n",
    "- If user enter a string longer than the available display space of widget, the content will be scrolled using arrow keys\n",
    "- If you want to enter multiple line of text then you have to use text widget\n",
    "- An entry widget is also limited to single font"
   ]
  },
  {
   "cell_type": "code",
   "execution_count": 12,
   "metadata": {},
   "outputs": [],
   "source": [
    "from tkinter import *\n",
    "root = Tk()\n",
    "root.title(\"Basic Entry Widget\")\n",
    "ent = Entry(root)\n",
    "ent.pack()"
   ]
  },
  {
   "cell_type": "code",
   "execution_count": 13,
   "metadata": {},
   "outputs": [],
   "source": [
    "def show_data():\n",
    "    print(ent.get())\n",
    "Button(root,\n",
    "      text=\"Show Data\",\n",
    "      command=show_data).pack()"
   ]
  },
  {
   "cell_type": "code",
   "execution_count": 14,
   "metadata": {},
   "outputs": [
    {
     "name": "stdout",
     "output_type": "stream",
     "text": [
      "hi\n",
      "minoo\n"
     ]
    }
   ],
   "source": [
    "root.mainloop()"
   ]
  }
 ],
 "metadata": {
  "kernelspec": {
   "display_name": "Python 3 (ipykernel)",
   "language": "python",
   "name": "python3"
  },
  "language_info": {
   "codemirror_mode": {
    "name": "ipython",
    "version": 3
   },
   "file_extension": ".py",
   "mimetype": "text/x-python",
   "name": "python",
   "nbconvert_exporter": "python",
   "pygments_lexer": "ipython3",
   "version": "3.10.6"
  }
 },
 "nbformat": 4,
 "nbformat_minor": 2
}
