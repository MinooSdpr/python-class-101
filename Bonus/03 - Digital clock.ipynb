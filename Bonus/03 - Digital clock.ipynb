{
 "cells": [
  {
   "cell_type": "code",
   "execution_count": 6,
   "metadata": {},
   "outputs": [],
   "source": [
    "from tkinter import BOTH\n",
    "import tkinter as tk\n",
    "from datetime import datetime\n",
    "\n",
    "def update_clock():\n",
    "    current_time = datetime.now().strftime(\"%H:%M:%S\")\n",
    "    clock_label.config(text=current_time)\n",
    "    clock_label.after(1000, update_clock)\n",
    "\n",
    "root = tk.Tk()\n",
    "root.title(\"Digital Clock\")\n",
    "\n",
    "clock_label = tk.Label(root, font=('times', 30, 'bold'), bg='blue')\n",
    "clock_label.pack(fill=BOTH, expand=1)\n",
    "\n",
    "update_clock()\n",
    "\n",
    "root.mainloop()\n",
    "\n"
   ]
  }
 ],
 "metadata": {
  "kernelspec": {
   "display_name": "Python 3 (ipykernel)",
   "language": "python",
   "name": "python3"
  },
  "language_info": {
   "codemirror_mode": {
    "name": "ipython",
    "version": 3
   },
   "file_extension": ".py",
   "mimetype": "text/x-python",
   "name": "python",
   "nbconvert_exporter": "python",
   "pygments_lexer": "ipython3",
   "version": "3.10.6"
  }
 },
 "nbformat": 4,
 "nbformat_minor": 2
}
