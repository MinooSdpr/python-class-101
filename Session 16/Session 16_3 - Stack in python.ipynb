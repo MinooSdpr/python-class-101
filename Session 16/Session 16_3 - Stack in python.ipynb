{
 "cells": [
  {
   "cell_type": "markdown",
   "id": "c8194903",
   "metadata": {},
   "source": [
    "# Stack in Python\n"
   ]
  },
  {
   "cell_type": "markdown",
   "id": "821d7b17",
   "metadata": {},
   "source": [
    "A stack is a linear data structure that stores items in a Last-In/First-Out (LIFO) or First-In/Last-Out (FILO) manner. In stack, a new element is added at one end and an element is removed from that end only. The insert and delete operations are often called push and pop.\n",
    "\n",
    "The functions associated with stack are:\n",
    "\n",
    "- empty() – Returns whether the stack is empty\n",
    "- size() – Returns the size of the stack\n",
    "- top() / peek() – Returns a reference to the topmost element of the stack\n",
    "- push(a) – Inserts the element ‘a’ at the top of the stack\n",
    "- pop() – Deletes the topmost element of the stack"
   ]
  },
  {
   "cell_type": "markdown",
   "id": "0842b34b",
   "metadata": {},
   "source": [
    "## Stack using list"
   ]
  },
  {
   "cell_type": "code",
   "execution_count": 1,
   "id": "fb3dc04f",
   "metadata": {},
   "outputs": [],
   "source": [
    "def empty(st):\n",
    "    return len(st)==0\n",
    "def size(st):\n",
    "    return len(st)\n",
    "def peek(st):\n",
    "    if empty(st):\n",
    "        return []\n",
    "    return st[-1]\n"
   ]
  },
  {
   "cell_type": "code",
   "execution_count": 2,
   "id": "e9ec8821",
   "metadata": {},
   "outputs": [
    {
     "name": "stdout",
     "output_type": "stream",
     "text": [
      "Initial stack\n",
      "['a', 'b', 'c']\n",
      "3\n",
      "\n",
      "Elements popped from stack:\n",
      "c\n",
      "b\n",
      "a\n",
      "\n",
      "Stack after elements are popped:\n",
      "[]\n",
      "[]\n"
     ]
    }
   ],
   "source": [
    "\n",
    "stack = []\n",
    " \n",
    "# append() function to push\n",
    "# element in the stack\n",
    "stack.append('a')\n",
    "stack.append('b')\n",
    "stack.append('c')\n",
    "print('Initial stack')\n",
    "print(stack)\n",
    "print(len(stack))\n",
    "# pop() function to pop\n",
    "# element from stack in\n",
    "# LIFO order\n",
    "print('\\nElements popped from stack:')\n",
    "print(stack.pop())\n",
    "print(stack.pop())\n",
    "print(stack.pop())\n",
    " \n",
    "print('\\nStack after elements are popped:')\n",
    "print(stack)\n",
    "print(peek(stack))\n"
   ]
  },
  {
   "cell_type": "code",
   "execution_count": 3,
   "id": "6e7be85a",
   "metadata": {},
   "outputs": [],
   "source": [
    "def push(stack,a):\n",
    "    stack.append(a)\n",
    "    "
   ]
  },
  {
   "cell_type": "markdown",
   "id": "3664b4b5",
   "metadata": {},
   "source": [
    "## Implementation using collections.deque:\n"
   ]
  },
  {
   "cell_type": "code",
   "execution_count": 13,
   "id": "ca71f002",
   "metadata": {
    "scrolled": true
   },
   "outputs": [
    {
     "name": "stdout",
     "output_type": "stream",
     "text": [
      "Initial stack:\n",
      "deque(['a', 'b', 'c'])\n",
      "\n",
      "Elements popped from stack:\n",
      "c\n",
      "b\n",
      "a\n",
      "\n",
      "Stack after elements are popped:\n",
      "deque([])\n"
     ]
    }
   ],
   "source": [
    "from collections import deque\n",
    " \n",
    "stack = deque()\n",
    " \n",
    "# append() function to push\n",
    "# element in the stack\n",
    "stack.append('a')\n",
    "stack.append('b')\n",
    "stack.append('c')\n",
    " \n",
    "print('Initial stack:')\n",
    "print(stack)\n",
    " \n",
    "# pop() function to pop\n",
    "# element from stack in\n",
    "# LIFO order\n",
    "print('\\nElements popped from stack:')\n",
    "print(stack.pop())\n",
    "print(stack.pop())\n",
    "print(stack.pop())\n",
    " \n",
    "print('\\nStack after elements are popped:')\n",
    "print(stack)\n"
   ]
  },
  {
   "cell_type": "code",
   "execution_count": 17,
   "id": "31f16eee",
   "metadata": {},
   "outputs": [
    {
     "name": "stdout",
     "output_type": "stream",
     "text": [
      "2\n",
      "False\n",
      "None\n",
      "True\n"
     ]
    }
   ],
   "source": [
    "def get_top():\n",
    "    if len(stack) > 0:\n",
    "        return stack[-1]\n",
    "    else:\n",
    "        return None\n",
    "\n",
    "# Function to check if the deque is empty\n",
    "def is_empty():\n",
    "    return len(stack) == 0\n",
    "\n",
    "# Testing the functions\n",
    "stack.append(1)\n",
    "stack.append(2)\n",
    "\n",
    "print(get_top())  # Output: 2\n",
    "print(is_empty())  # Output: False\n",
    "\n",
    "stack.clear()\n",
    "\n",
    "print(get_top())  # Output: None\n",
    "print(is_empty()) "
   ]
  },
  {
   "cell_type": "markdown",
   "id": "f2820e24",
   "metadata": {},
   "source": [
    "## Implementation using queue module\n",
    "There are various functions available in this module: \n",
    "\n",
    "- maxsize – Number of items allowed in the queue.\n",
    "- empty() – Return True if the queue is empty, False otherwise.\n",
    "- full() – Return True if there are maxsize items in the queue. If the queue was initialized with maxsize=0 (the default), then full() never returns True.\n",
    "- get() – Remove and return an item from the queue. If the queue is empty, wait until an item is available.\n",
    "- get_nowait() – Return an item if one is immediately available, else raise QueueEmpty.\n",
    "- put(item) – Put an item into the queue. If the queue is full, wait until a free slot is available before adding the item.\n",
    "- put_nowait(item) – Put an item into the queue without blocking. If no free slot is immediately available, raise QueueFull.\n",
    "- qsize() – Return the number of items in the queue."
   ]
  },
  {
   "cell_type": "code",
   "execution_count": 18,
   "id": "f79c83dc",
   "metadata": {
    "scrolled": true
   },
   "outputs": [
    {
     "name": "stdout",
     "output_type": "stream",
     "text": [
      "0\n",
      "Full:  True\n",
      "Size:  3\n",
      "\n",
      "Elements popped from the stack\n",
      "c\n",
      "b\n",
      "a\n",
      "\n",
      "Empty:  True\n"
     ]
    }
   ],
   "source": [
    "from queue import LifoQueue\n",
    " \n",
    "stack = LifoQueue(maxsize=3)\n",
    " \n",
    "# qsize() show the number of elements in the stack\n",
    "print(stack.qsize())\n",
    " \n",
    "# put() function to push element in the stack\n",
    "stack.put('a')\n",
    "stack.put('b')\n",
    "stack.put('c')\n",
    " \n",
    "print(\"Full: \", stack.full())\n",
    "print(\"Size: \", stack.qsize())\n",
    " \n",
    "# get() function to pop element from stack in LIFO order\n",
    "print('\\nElements popped from the stack')\n",
    "print(stack.get())\n",
    "print(stack.get())\n",
    "print(stack.get())\n",
    " \n",
    "print(\"\\nEmpty: \", stack.empty())"
   ]
  },
  {
   "cell_type": "markdown",
   "id": "6122f056",
   "metadata": {},
   "source": [
    "## Implementation using class:\n",
    "\n",
    "* getSize()– Get the number of items in the stack.\n",
    "* isEmpty() – Return True if the stack is empty, False otherwise.\n",
    "* peek() – Return the top item in the stack. If the stack is empty, raise an exception.\n",
    "* push(value) – Push a value into the head of the stack.\n",
    "* pop() – Remove and return a value in the head of the stack. If the stack is empty, raise an exception."
   ]
  },
  {
   "cell_type": "code",
   "execution_count": 25,
   "id": "6c342626",
   "metadata": {},
   "outputs": [
    {
     "name": "stdout",
     "output_type": "stream",
     "text": [
      "0\n",
      "True\n",
      "\n",
      "_________________\n",
      "3\n",
      "2\n",
      "1\n",
      "_________________\n",
      "\n",
      "3\n",
      "False\n",
      "3\n",
      "3\n",
      "2\n",
      "1\n"
     ]
    }
   ],
   "source": [
    "class Stack:\n",
    "    def __init__(self):\n",
    "        self.stack = []\n",
    "\n",
    "    def getSize(self):\n",
    "        return len(self.stack)\n",
    "\n",
    "    def isEmpty(self):\n",
    "        return len(self.stack) == 0\n",
    "\n",
    "    def peek(self):\n",
    "        if self.isEmpty():\n",
    "            return 'stack is empty'\n",
    "        return self.stack[-1]\n",
    "\n",
    "    def push(self, value):\n",
    "        self.stack.append(value)\n",
    "\n",
    "    def pop(self):\n",
    "        if self.isEmpty():\n",
    "            return \"Stack is empty\"\n",
    "        return self.stack.pop()\n",
    "    def __str__(self):\n",
    "        s1 = \"\\n_________________\\n\"\n",
    "        s = '\\n'.join(map(str, self.stack[::-1]))\n",
    "        s+= \"\\n_________________\\n\"\n",
    "        return s1+s\n",
    "        \n",
    "\n",
    "# Testing the Stack class\n",
    "stack = Stack()\n",
    "\n",
    "print(stack.getSize())  # Output: 0\n",
    "print(stack.isEmpty())  # Output: True\n",
    "\n",
    "stack.push(1)\n",
    "stack.push(2)\n",
    "stack.push(3)\n",
    "print(stack)\n",
    "print(stack.getSize())  # Output: 3\n",
    "print(stack.isEmpty())  # Output: False\n",
    "print(stack.peek())     # Output: 3\n",
    "\n",
    "print(stack.pop())      # Output: 3\n",
    "print(stack.pop())      # Output: 2\n",
    "print(stack.pop())      # Output: 1"
   ]
  },
  {
   "cell_type": "code",
   "execution_count": null,
   "id": "7d4ae144",
   "metadata": {},
   "outputs": [],
   "source": []
  }
 ],
 "metadata": {
  "kernelspec": {
   "display_name": "Python 3 (ipykernel)",
   "language": "python",
   "name": "python3"
  },
  "language_info": {
   "codemirror_mode": {
    "name": "ipython",
    "version": 3
   },
   "file_extension": ".py",
   "mimetype": "text/x-python",
   "name": "python",
   "nbconvert_exporter": "python",
   "pygments_lexer": "ipython3",
   "version": "3.10.6"
  }
 },
 "nbformat": 4,
 "nbformat_minor": 5
}
