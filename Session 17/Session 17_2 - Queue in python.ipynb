{
 "cells": [
  {
   "cell_type": "markdown",
   "id": "eba1ca09",
   "metadata": {},
   "source": [
    "# Queue in Python\n",
    "\n",
    "the queue is a linear data structure that stores items in a First In First Out (FIFO) manner. With a queue, the least recently added item is removed first. A good example of a queue is any queue of consumers for a resource where the consumer that came first is served first."
   ]
  },
  {
   "cell_type": "markdown",
   "id": "2663a7b7",
   "metadata": {},
   "source": [
    "Operations associated with queue are: \n",
    "\n",
    "- Enqueue: Adds an item to the queue. If the queue is full, then it is said to be an Overflow condition\n",
    "- Dequeue: Removes an item from the queue. The items are popped in the same order in which they are pushed. If the queue is empty, then it is said to be an Underflow condition\n",
    "- Front: Get the front item from queue\n",
    "- Rear: Get the last item from queue"
   ]
  },
  {
   "cell_type": "markdown",
   "id": "8c9ad84f",
   "metadata": {},
   "source": [
    "## Implementation using list\n"
   ]
  },
  {
   "cell_type": "code",
   "execution_count": 1,
   "id": "46dd5806",
   "metadata": {},
   "outputs": [
    {
     "name": "stdout",
     "output_type": "stream",
     "text": [
      "Initial queue\n",
      "['a', 'b', 'c']\n",
      "\n",
      "Elements dequeued from queue\n",
      "a\n",
      "b\n",
      "c\n",
      "\n",
      "Queue after removing elements\n",
      "[]\n"
     ]
    }
   ],
   "source": [
    "queue = []\n",
    "queue.append('a')\n",
    "queue.append('b')\n",
    "queue.append('c')\n",
    "print(\"Initial queue\")\n",
    "print(queue)\n",
    "print(\"\\nElements dequeued from queue\")\n",
    "print(queue.pop(0))\n",
    "print(queue.pop(0))\n",
    "print(queue.pop(0))\n",
    "print(\"\\nQueue after removing elements\")\n",
    "print(queue)"
   ]
  },
  {
   "cell_type": "markdown",
   "id": "e5457bde",
   "metadata": {},
   "source": [
    "## Implementation using collections.deque\n"
   ]
  },
  {
   "cell_type": "code",
   "execution_count": 2,
   "id": "9cd331b5",
   "metadata": {},
   "outputs": [
    {
     "name": "stdout",
     "output_type": "stream",
     "text": [
      "Initial queue\n",
      "deque(['a', 'b', 'c'])\n",
      "\n",
      "Elements dequeued from the queue\n",
      "a\n",
      "b\n",
      "c\n",
      "\n",
      "Queue after removing elements\n",
      "deque([])\n"
     ]
    }
   ],
   "source": [
    "from collections import deque\n",
    "q = deque()\n",
    "q.append('a')\n",
    "q.append('b')\n",
    "q.append('c')\n",
    "print(\"Initial queue\")\n",
    "print(q)\n",
    "print(\"\\nElements dequeued from the queue\")\n",
    "print(q.popleft())\n",
    "print(q.popleft())\n",
    "print(q.popleft())\n",
    " \n",
    "print(\"\\nQueue after removing elements\")\n",
    "print(q)"
   ]
  },
  {
   "cell_type": "markdown",
   "id": "8f7efe45",
   "metadata": {},
   "source": [
    "## Implementation using queue.Queue\n",
    "There are various functions available in this module: \n",
    "\n",
    "* maxsize – Number of items allowed in the queue.\n",
    "* empty() – Return True if the queue is empty, False otherwise.\n",
    "* full() – Return True if there are maxsize items in the queue. If the queue was initialized with maxsize=0 (the default), then full() never returns True.\n",
    "* get() – Remove and return an item from the queue. If queue is empty, wait until an item is available.\n",
    "* get_nowait() – Return an item if one is immediately available, else raise QueueEmpty.\n",
    "* put(item) – Put an item into the queue. If the queue is full, wait until a free slot is available before adding the item.\n",
    "* put_nowait(item) – Put an item into the queue without blocking. If no free slot is immediately available, raise QueueFull.\n",
    "* qsize() – Return the number of items in the queue."
   ]
  },
  {
   "cell_type": "code",
   "execution_count": 1,
   "id": "0a7f3ccf",
   "metadata": {},
   "outputs": [
    {
     "name": "stdout",
     "output_type": "stream",
     "text": [
      "0\n",
      "\n",
      "Full:  True\n",
      "\n",
      "Elements dequeued from the queue\n",
      "a\n",
      "b\n",
      "c\n",
      "\n",
      "Empty:  True\n",
      "\n",
      "Empty:  False\n",
      "Full:  False\n"
     ]
    }
   ],
   "source": [
    "from queue import Queue\n",
    "q = Queue(maxsize = 3)\n",
    "print(q.qsize()) \n",
    "q.put('a')\n",
    "q.put('b')\n",
    "q.put('c')\n",
    "print(\"\\nFull: \", q.full()) \n",
    "print(\"\\nElements dequeued from the queue\")\n",
    "print(q.get())\n",
    "print(q.get())\n",
    "print(q.get())\n",
    "print(\"\\nEmpty: \", q.empty())\n",
    "q.put(1)\n",
    "print(\"\\nEmpty: \", q.empty()) \n",
    "print(\"Full: \", q.full())"
   ]
  },
  {
   "cell_type": "code",
   "execution_count": 14,
   "id": "2b53f097",
   "metadata": {},
   "outputs": [
    {
     "name": "stdout",
     "output_type": "stream",
     "text": [
      "3\n"
     ]
    }
   ],
   "source": [
    "class Queue:\n",
    "    def __init__(self,msize = 3):\n",
    "        self.items = []\n",
    "        self.max_size = msize\n",
    "    def isEmpty(self):\n",
    "        return self.items == []\n",
    "\n",
    "    def enqueue(self, item):\n",
    "        if len(self.items)< self.max_size:\n",
    "            self.items.append(item)\n",
    "\n",
    "    def dequeue(self):\n",
    "        return self.items.pop(0)\n",
    "\n",
    "    def size(self):\n",
    "        return len(self.items)\n",
    "    def Front(self):\n",
    "        return self.items[0]\n",
    "    def Rear(self):\n",
    "        return self.items[-1]\n",
    "    def __str__(self):\n",
    "        s = '\\t'.join(map(str, self.items[::]))\n",
    "        return s\n",
    "q=Queue(5)\n",
    "q.enqueue(4)\n",
    "q.enqueue('dog')\n",
    "q.enqueue(True)\n",
    "print(q.size())"
   ]
  },
  {
   "cell_type": "code",
   "execution_count": 15,
   "id": "5186887b",
   "metadata": {},
   "outputs": [
    {
     "name": "stdout",
     "output_type": "stream",
     "text": [
      "4\tdog\tTrue\n"
     ]
    }
   ],
   "source": [
    "print(q)"
   ]
  },
  {
   "cell_type": "code",
   "execution_count": null,
   "id": "5b2f95d0",
   "metadata": {},
   "outputs": [],
   "source": []
  }
 ],
 "metadata": {
  "kernelspec": {
   "display_name": "Python 3 (ipykernel)",
   "language": "python",
   "name": "python3"
  },
  "language_info": {
   "codemirror_mode": {
    "name": "ipython",
    "version": 3
   },
   "file_extension": ".py",
   "mimetype": "text/x-python",
   "name": "python",
   "nbconvert_exporter": "python",
   "pygments_lexer": "ipython3",
   "version": "3.10.6"
  }
 },
 "nbformat": 4,
 "nbformat_minor": 5
}
