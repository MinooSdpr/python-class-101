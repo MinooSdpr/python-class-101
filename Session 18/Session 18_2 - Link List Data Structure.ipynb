{
 "cells": [
  {
   "attachments": {
    "LLdrawio.png": {
     "image/png": "[encoded data removed]"
    }
   },
   "cell_type": "markdown",
   "id": "a3342169",
   "metadata": {},
   "source": [
    "# Python Linked List\n",
    "\n",
    "A linked list is a type of linear data structure similar to arrays. It is a collection of nodes that are linked with each other. A node contains two things first is data and second is a link that connects it with another node. Our first node is where head points and we can access all the elements of the linked list using the head.\n",
    "\n",
    "![LLdrawio.png](attachment:LLdrawio.png)"
   ]
  },
  {
   "cell_type": "code",
   "execution_count": 1,
   "id": "c3e9ad72",
   "metadata": {},
   "outputs": [],
   "source": [
    "class Node:\n",
    "    def __init__(self, data):\n",
    "        self.data = data\n",
    "        self.next = None"
   ]
  },
  {
   "cell_type": "markdown",
   "id": "e33e916a",
   "metadata": {},
   "source": [
    "## Insertion in Linked List\n",
    "### Insertion at Beginning in Linked List \n"
   ]
  },
  {
   "cell_type": "code",
   "execution_count": 3,
   "id": "8f4c0d59",
   "metadata": {},
   "outputs": [],
   "source": [
    "class Node:\n",
    "    def __init__(self, data):\n",
    "        self.data = data\n",
    "        self.next = None\n",
    "    def insertAtBegin(self, data):\n",
    "        new_node = Node(data)\n",
    "        if self.head is None:\n",
    "            self.head = new_node\n",
    "            return\n",
    "        else:\n",
    "            new_node.next = self.head\n",
    "            self.head = new_node"
   ]
  },
  {
   "cell_type": "markdown",
   "id": "12e9e863",
   "metadata": {},
   "source": [
    "### Insert a Node at a Specific Position in a Linked List\n"
   ]
  },
  {
   "cell_type": "code",
   "execution_count": 5,
   "id": "6722567e",
   "metadata": {},
   "outputs": [],
   "source": [
    "class Node:\n",
    "    def __init__(self, data):\n",
    "        self.data = data\n",
    "        self.next = None\n",
    "    def insertAtBegin(self, data):\n",
    "        new_node = Node(data)\n",
    "        if self.head is None:\n",
    "            self.head = new_node\n",
    "            return\n",
    "        else:\n",
    "            new_node.next = self.head\n",
    "            self.head = new_node    \n",
    "    # Indexing starts from 0.\n",
    "    def insertAtIndex(self, data, index):\n",
    "            new_node = Node(data)\n",
    "            current_node = self.head\n",
    "            position = 0\n",
    "            if position == index:\n",
    "                self.insertAtBegin(data)\n",
    "            else:\n",
    "                while(current_node != None and position+1 != index):\n",
    "                    position = position+1\n",
    "                    current_node = current_node.next\n",
    " \n",
    "                if current_node != None:\n",
    "                    new_node.next = current_node.next\n",
    "                    current_node.next = new_node\n",
    "                else:\n",
    "                    print(\"Index not present\")"
   ]
  },
  {
   "cell_type": "markdown",
   "id": "7c3d6b71",
   "metadata": {},
   "source": [
    "### Insertion in Linked List at End\n"
   ]
  },
  {
   "cell_type": "code",
   "execution_count": 9,
   "id": "6ec34663",
   "metadata": {},
   "outputs": [],
   "source": [
    "def inserAtEnd(self, data):\n",
    "    new_node = Node(data)\n",
    "    if self.head is None:\n",
    "        self.head = new_node\n",
    "        return\n",
    " \n",
    "    current_node = self.head\n",
    "    while(current_node.next):\n",
    "        current_node = current_node.next\n",
    " \n",
    "    current_node.next = new_node"
   ]
  },
  {
   "cell_type": "markdown",
   "id": "dbbe88df",
   "metadata": {},
   "source": [
    "## Update the Node of a Linked List\n"
   ]
  },
  {
   "cell_type": "code",
   "execution_count": 10,
   "id": "34078222",
   "metadata": {},
   "outputs": [],
   "source": [
    "# Update node of a linked list\n",
    "# at given position\n",
    "def updateNode(self, val, index):\n",
    "    current_node = self.head\n",
    "    position = 0\n",
    "    if position == index:\n",
    "        current_node.data = val\n",
    "    else:\n",
    "        while(current_node != None and position != index):\n",
    "            position = position+1\n",
    "            current_node = current_node.next\n",
    " \n",
    "        if current_node != None:\n",
    "            current_node.data = val\n",
    "        else:\n",
    "            print(\"Index not present\")"
   ]
  },
  {
   "cell_type": "markdown",
   "id": "e8a75218",
   "metadata": {},
   "source": [
    "## Delete Node in a Linked List\n",
    "### Remove First Node from Linked List"
   ]
  },
  {
   "cell_type": "code",
   "execution_count": 11,
   "id": "f5c22579",
   "metadata": {},
   "outputs": [],
   "source": [
    "def remove_first_node(self):\n",
    "    if self.head is None:\n",
    "        return\n",
    "     \n",
    "    self.head = self.head.next"
   ]
  },
  {
   "cell_type": "markdown",
   "id": "b4f824da",
   "metadata": {},
   "source": [
    "### Remove Last Node from Linked List\n"
   ]
  },
  {
   "cell_type": "code",
   "execution_count": 12,
   "id": "97afbc61",
   "metadata": {},
   "outputs": [],
   "source": [
    "def remove_last_node(self):\n",
    " \n",
    "    if self.head is None:\n",
    "        return\n",
    " \n",
    "    current_node = self.head\n",
    "    while(current_node.next.next):\n",
    "        current_node = current_node.next\n",
    " \n",
    "    current_node.next = None"
   ]
  },
  {
   "cell_type": "markdown",
   "id": "4b38c60f",
   "metadata": {},
   "source": [
    "### Delete a Linked List Node at a given Position\n"
   ]
  },
  {
   "cell_type": "code",
   "execution_count": 13,
   "id": "f1df8e5b",
   "metadata": {},
   "outputs": [],
   "source": [
    "# Method to remove at given index\n",
    "def remove_at_index(self, index):\n",
    "        if self.head == None:\n",
    "            return\n",
    " \n",
    "        current_node = self.head\n",
    "        position = 0\n",
    "        if position == index:\n",
    "            self.remove_first_node()\n",
    "        else:\n",
    "            while(current_node != None and position+1 != index):\n",
    "                position = position+1\n",
    "                current_node = current_node.next\n",
    " \n",
    "            if current_node != None:\n",
    "                current_node.next = current_node.next.next\n",
    "            else:\n",
    "                print(\"Index not present\")"
   ]
  },
  {
   "cell_type": "markdown",
   "id": "b1b739d5",
   "metadata": {},
   "source": [
    "### Delete a Linked List Node of a given Data\n"
   ]
  },
  {
   "cell_type": "code",
   "execution_count": 14,
   "id": "c4032a78",
   "metadata": {},
   "outputs": [],
   "source": [
    "def remove_node(self, data):\n",
    "    current_node = self.head\n",
    " \n",
    "    # Check if the head node contains the specified data\n",
    "    if current_node.data == data:\n",
    "        self.remove_first_node()\n",
    "        return\n",
    " \n",
    "    while current_node is not None and current_node.next.data != data:\n",
    "        current_node = current_node.next\n",
    " \n",
    "    if current_node is None:\n",
    "        return\n",
    "    else:\n",
    "        current_node.next = current_node.next.next"
   ]
  },
  {
   "cell_type": "markdown",
   "id": "33a07e4e",
   "metadata": {},
   "source": [
    "## Linked List Traversal in Python\n"
   ]
  },
  {
   "cell_type": "code",
   "execution_count": 15,
   "id": "681c7e0a",
   "metadata": {},
   "outputs": [],
   "source": [
    "def printLL(self):\n",
    "    current_node = self.head\n",
    "    while(current_node):\n",
    "        print(current_node.data)\n",
    "        current_node = current_node.next"
   ]
  },
  {
   "cell_type": "markdown",
   "id": "33739263",
   "metadata": {},
   "source": [
    "## Get Length of a Linked List in Python\n"
   ]
  },
  {
   "cell_type": "code",
   "execution_count": 16,
   "id": "d2bfef2e",
   "metadata": {},
   "outputs": [],
   "source": [
    "def sizeOfLL(self):\n",
    "    size = 0\n",
    "    if(self.head):\n",
    "        current_node = self.head\n",
    "        while(current_node):\n",
    "            size = size+1\n",
    "            current_node = current_node.next\n",
    "        return size\n",
    "    else:\n",
    "        return 0"
   ]
  },
  {
   "cell_type": "code",
   "execution_count": 17,
   "id": "f5e0f246",
   "metadata": {},
   "outputs": [
    {
     "name": "stdout",
     "output_type": "stream",
     "text": [
      "Node Data\n",
      "c\n",
      "a\n",
      "g\n",
      "b\n",
      "d\n",
      "\n",
      "Remove First Node\n",
      "Remove Last Node\n",
      "Remove Node at Index 1\n",
      "\n",
      "Linked list after removing a node:\n",
      "a\n",
      "b\n",
      "\n",
      "Update node Value\n",
      "z\n",
      "b\n",
      "\n",
      "Size of linked list : 2\n"
     ]
    }
   ],
   "source": [
    "class Node:\n",
    "    def __init__(self, data):\n",
    "        self.data = data\n",
    "        self.next = None\n",
    "\n",
    " \n",
    " \n",
    "class LinkedList:\n",
    "    def __init__(self):\n",
    "        self.head = None\n",
    " \n",
    "    # Method to add a node at begin of LL\n",
    "    def insertAtBegin(self, data):\n",
    "        new_node = Node(data)\n",
    "        if self.head is None:\n",
    "            self.head = new_node\n",
    "            return\n",
    "        else:\n",
    "            new_node.next = self.head\n",
    "            self.head = new_node\n",
    " \n",
    "    # Method to add a node at any index\n",
    "    # Indexing starts from 0.\n",
    "    def insertAtIndex(self, data, index):\n",
    "        new_node = Node(data)\n",
    "        current_node = self.head\n",
    "        position = 0\n",
    "        if position == index:\n",
    "            self.insertAtBegin(data)\n",
    "        else:\n",
    "            while(current_node != None and position+1 != index):\n",
    "                position = position+1\n",
    "                current_node = current_node.next\n",
    " \n",
    "            if current_node != None:\n",
    "                new_node.next = current_node.next\n",
    "                current_node.next = new_node\n",
    "            else:\n",
    "                print(\"Index not present\")\n",
    " \n",
    "    # Method to add a node at the end of LL\n",
    " \n",
    "    def insertAtEnd(self, data):\n",
    "        new_node = Node(data)\n",
    "        if self.head is None:\n",
    "            self.head = new_node\n",
    "            return\n",
    " \n",
    "        current_node = self.head\n",
    "        while(current_node.next):\n",
    "            current_node = current_node.next\n",
    " \n",
    "        current_node.next = new_node\n",
    " \n",
    "    # Update node of a linked list\n",
    "        # at given position\n",
    "    def updateNode(self, val, index):\n",
    "        current_node = self.head\n",
    "        position = 0\n",
    "        if position == index:\n",
    "            current_node.data = val\n",
    "        else:\n",
    "            while(current_node != None and position != index):\n",
    "                position = position+1\n",
    "                current_node = current_node.next\n",
    " \n",
    "            if current_node != None:\n",
    "                current_node.data = val\n",
    "            else:\n",
    "                print(\"Index not present\")\n",
    " \n",
    "    # Method to remove first node of linked list\n",
    " \n",
    "    def remove_first_node(self):\n",
    "        if(self.head == None):\n",
    "            return\n",
    " \n",
    "        self.head = self.head.next\n",
    " \n",
    "    # Method to remove last node of linked list\n",
    "    def remove_last_node(self):\n",
    " \n",
    "        if self.head is None:\n",
    "            return\n",
    " \n",
    "        current_node = self.head\n",
    "        while(current_node.next.next):\n",
    "            current_node = current_node.next\n",
    " \n",
    "        current_node.next = None\n",
    " \n",
    "    # Method to remove at given index\n",
    "    def remove_at_index(self, index):\n",
    "        if self.head == None:\n",
    "            return\n",
    " \n",
    "        current_node = self.head\n",
    "        position = 0\n",
    "        if position == index:\n",
    "            self.remove_first_node()\n",
    "        else:\n",
    "            while(current_node != None and position+1 != index):\n",
    "                position = position+1\n",
    "                current_node = current_node.next\n",
    " \n",
    "            if current_node != None:\n",
    "                current_node.next = current_node.next.next\n",
    "            else:\n",
    "                print(\"Index not present\")\n",
    " \n",
    "    # Method to remove a node from linked list\n",
    "    def remove_node(self, data):\n",
    "        current_node = self.head\n",
    " \n",
    "        if current_node.data == data:\n",
    "            self.remove_first_node()\n",
    "            return\n",
    " \n",
    "        while(current_node != None and current_node.next.data != data):\n",
    "            current_node = current_node.next\n",
    " \n",
    "        if current_node == None:\n",
    "            return\n",
    "        else:\n",
    "            current_node.next = current_node.next.next\n",
    " \n",
    "    # Print the size of linked list\n",
    "    def sizeOfLL(self):\n",
    "        size = 0\n",
    "        if(self.head):\n",
    "            current_node = self.head\n",
    "            while(current_node):\n",
    "                size = size+1\n",
    "                current_node = current_node.next\n",
    "            return size\n",
    "        else:\n",
    "            return 0\n",
    " \n",
    "    # print method for the linked list\n",
    "    def printLL(self):\n",
    "        current_node = self.head\n",
    "        while(current_node):\n",
    "            print(current_node.data)\n",
    "            current_node = current_node.next\n",
    " \n",
    " \n",
    "# create a new linked list\n",
    "llist = LinkedList()\n",
    " \n",
    "# add nodes to the linked list\n",
    "llist.insertAtEnd('a')\n",
    "llist.insertAtEnd('b')\n",
    "llist.insertAtBegin('c')\n",
    "llist.insertAtEnd('d')\n",
    "llist.insertAtIndex('g', 2)\n",
    " \n",
    "# print the linked list\n",
    "print(\"Node Data\")\n",
    "llist.printLL()\n",
    " \n",
    "# remove a nodes from the linked list\n",
    "print(\"\\nRemove First Node\")\n",
    "llist.remove_first_node()\n",
    "print(\"Remove Last Node\")\n",
    "llist.remove_last_node()\n",
    "print(\"Remove Node at Index 1\")\n",
    "llist.remove_at_index(1)\n",
    " \n",
    "print(\"\\nLinked list after removing a node:\")\n",
    "llist.printLL()\n",
    " \n",
    "print(\"\\nUpdate node Value\")\n",
    "llist.updateNode('z', 0)\n",
    "llist.printLL()\n",
    " \n",
    "print(\"\\nSize of linked list :\", end=\" \")\n",
    "print(llist.sizeOfLL())"
   ]
  },
  {
   "cell_type": "code",
   "execution_count": null,
   "id": "18588f46",
   "metadata": {},
   "outputs": [],
   "source": []
  }
 ],
 "metadata": {
  "kernelspec": {
   "display_name": "Python 3 (ipykernel)",
   "language": "python",
   "name": "python3"
  },
  "language_info": {
   "codemirror_mode": {
    "name": "ipython",
    "version": 3
   },
   "file_extension": ".py",
   "mimetype": "text/x-python",
   "name": "python",
   "nbconvert_exporter": "python",
   "pygments_lexer": "ipython3",
   "version": "3.10.6"
  }
 },
 "nbformat": 4,
 "nbformat_minor": 5
}
