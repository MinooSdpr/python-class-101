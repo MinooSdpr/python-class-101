{
 "cells": [
  {
   "cell_type": "code",
   "execution_count": 1,
   "id": "5cd25bc0",
   "metadata": {},
   "outputs": [],
   "source": [
    "import sqlite3"
   ]
  },
  {
   "cell_type": "code",
   "execution_count": 2,
   "id": "b298f154",
   "metadata": {},
   "outputs": [],
   "source": [
    "# Connect to database if existent or creates a new database if nonexistent\n",
    "conn = sqlite3.connect(\"customers.db\")\n",
    "\n",
    "# Create a cursor\n",
    "c = conn.cursor()"
   ]
  },
  {
   "cell_type": "markdown",
   "id": "857e0245",
   "metadata": {},
   "source": [
    "## Create a Table\n",
    " In this case 'customers' is the name of the database / a database is LIKE a spreadsheet then you enter the name of variable in table and the datatype.\n",
    "Sqlite only has 5 datatype (although other databases like MySql have dozens more)\n",
    "SQLite DataTypes are:\n",
    "- NULL (does it exist or doesnt),\n",
    "- INTEGER (any whole number)\n",
    "- REAL (any decimal number)\n",
    "- TEXT (any text)\n",
    "- BLOB (it is stored exactly like it is) (an image, mp3, etc. are some examples of blobs)"
   ]
  },
  {
   "cell_type": "code",
   "execution_count": 3,
   "id": "325044e1",
   "metadata": {},
   "outputs": [],
   "source": [
    "\n",
    "c.execute(\"\"\"CREATE TABLE customers (\n",
    "    first_name text,\n",
    "    last_name text,\n",
    "    email text\n",
    ")\"\"\")\n",
    "\n",
    "\n",
    "# 'Commits' (saves) the things we just made to the db (database)\n",
    "conn.commit()\n",
    "\n",
    "# Close connection to avoid mistakes & errors / it is a good practice to make it manually\n",
    "conn.close()\n"
   ]
  },
  {
   "cell_type": "markdown",
   "id": "44f69eb4",
   "metadata": {},
   "source": [
    "# Insert one record to table\n"
   ]
  },
  {
   "cell_type": "code",
   "execution_count": 5,
   "id": "9e73ac3f",
   "metadata": {},
   "outputs": [],
   "source": [
    "conn = sqlite3.connect(\"customers.db\")\n",
    "\n",
    "# Create a cursor\n",
    "c = conn.cursor()\n",
    "\n",
    "# Insert one record to table\n",
    "c.execute(\"INSERT INTO customers VALUES ('Yalda', 'Goli', 'yg@email.com'),('Minoo','Sayyadpour','minoosayyadpour34@gmail.com')\")\n",
    "\n",
    "# Commit changes to db\n",
    "conn.commit()"
   ]
  },
  {
   "cell_type": "markdown",
   "id": "9443c7f2",
   "metadata": {},
   "source": [
    "## Create python list with customer info"
   ]
  },
  {
   "cell_type": "code",
   "execution_count": 6,
   "id": "bd96cd41",
   "metadata": {},
   "outputs": [],
   "source": [
    "many_customers = [\n",
    "                 ('customerName1', 'customerLastName1', 'customer1@email.com'),\n",
    "                 ('customerName2', 'customerLastName2', 'customer2@email.com'),\n",
    "                 ('customerName3', 'customerLastName3', 'customer3@email.com'),\n",
    "               ]\n",
    "\n",
    "# Insert many records to table\n",
    "# In sqlite the \"?\" question mark is the place holder\n",
    "c.executemany(\"INSERT INTO customers VALUES (?,?, ?)\", many_customers)\n",
    "\n",
    "conn.commit()\n",
    "\n",
    "conn.close()"
   ]
  },
  {
   "cell_type": "markdown",
   "id": "f2c6540c",
   "metadata": {},
   "source": [
    "## A report from dataset\n",
    "fetch returned a python list that are dataset rows.\n",
    "- .fetchone() == fetches the last item\n",
    "- .fetchmany() == fetches how many you tell it on parameters\n",
    "- .fetchall() == fetches all"
   ]
  },
  {
   "cell_type": "code",
   "execution_count": 5,
   "id": "9f7f77f3",
   "metadata": {},
   "outputs": [
    {
     "name": "stdout",
     "output_type": "stream",
     "text": [
      "[('customerName', 'customerLastName', 'customer@email.com'), ('Minoo', 'Sayyadpour', 'minoosayyadpour34@gmail.com'), ('customerName1', 'customerLastName1', 'customer1@email.com'), ('customerName2', 'customerLastName2', 'customer2@email.com'), ('customerName3', 'customerLastName3', 'customer3@email.com')]\n"
     ]
    }
   ],
   "source": [
    "conn = sqlite3.connect(\"customers.db\")\n",
    "\n",
    "# Create a cursor\n",
    "c = conn.cursor()\n",
    "\n",
    "# Query the database (db)\n",
    "c.execute(\"SELECT * FROM customers\")\n",
    "\n",
    "#items = c.fetchall()\n",
    "\n",
    "print(c.fetchall())\n",
    "\n",
    "# Commit changes to db\n",
    "conn.commit()\n",
    "\n",
    "# Close connection to db\n",
    "conn.close()"
   ]
  },
  {
   "cell_type": "code",
   "execution_count": 4,
   "id": "63f66c29",
   "metadata": {
    "scrolled": true
   },
   "outputs": [
    {
     "name": "stdout",
     "output_type": "stream",
     "text": [
      "Name: customerName\tLast Name: customerLastName\tEmail: customer@email.com\n",
      "Name: Minoo\tLast Name: Sayyadpour\tEmail: minoosayyadpour34@gmail.com\n",
      "Name: customerName1\tLast Name: customerLastName1\tEmail: customer1@email.com\n",
      "Name: customerName2\tLast Name: customerLastName2\tEmail: customer2@email.com\n",
      "Name: customerName3\tLast Name: customerLastName3\tEmail: customer3@email.com\n"
     ]
    }
   ],
   "source": [
    "for item in items:\n",
    "    print(\"Name: \" + item[0] + \"\\tLast Name: \" + item[1] + \"\\tEmail: \" + item[2])\n",
    "    # We also can just do: print(item)"
   ]
  },
  {
   "cell_type": "markdown",
   "id": "059bdf43",
   "metadata": {},
   "source": [
    "# Query the database (db)\n",
    "A primary key is a unique id number that each record from the database gets / in SQLite it is called row id In most databases you have to create the primary key yourself and an automatic increasing counter.\n",
    "But this sqlite has it included all ready."
   ]
  },
  {
   "cell_type": "code",
   "execution_count": 7,
   "id": "ca8f0702",
   "metadata": {
    "scrolled": false
   },
   "outputs": [
    {
     "name": "stdout",
     "output_type": "stream",
     "text": [
      "(1, 'customerName', 'customerLastName', 'customer@email.com')\n",
      "(2, 'Minoo', 'Sayyadpour', 'minoosayyadpour34@gmail.com')\n",
      "(3, 'customerName1', 'customerLastName1', 'customer1@email.com')\n",
      "(4, 'customerName2', 'customerLastName2', 'customer2@email.com')\n",
      "(5, 'customerName3', 'customerLastName3', 'customer3@email.com')\n"
     ]
    }
   ],
   "source": [
    "conn = sqlite3.connect(\"customers.db\")\n",
    "c = conn.cursor()\n",
    "\n",
    "\n",
    "c.execute(\"SELECT rowid, * FROM customers\")\n",
    "\n",
    "items = c.fetchall()\n",
    "\n",
    "\n",
    "# Formatting the results\n",
    "for item in items:\n",
    "    #print(\"Name: \" + item[0] + \"\\tLast Name: \" + item[1] + \"\\tEmail: \" + item[2])\n",
    "    print(item)\n",
    "\n",
    "# Commit changes to db\n",
    "conn.commit()\n",
    "\n",
    "# Close connection to db\n",
    "conn.close()"
   ]
  },
  {
   "cell_type": "markdown",
   "id": "b52b9f5d",
   "metadata": {},
   "source": [
    "## Conditional Query\n",
    "\n",
    "* A comparison operator used a lot is: LIKE / which compares to similar results and have to end with % or start with %\n",
    "* Example: WHERE email LIKE '%customer'\n",
    "* We can also use all of the other comparison operators like: >, <, ==, >=, etc."
   ]
  },
  {
   "cell_type": "code",
   "execution_count": 8,
   "id": "1345bf70",
   "metadata": {
    "scrolled": true
   },
   "outputs": [
    {
     "name": "stdout",
     "output_type": "stream",
     "text": [
      "Name: customerName\tLast Name: customerLastName\tEmail: customer@email.com\n",
      "Name: customerName1\tLast Name: customerLastName1\tEmail: customer1@email.com\n",
      "Name: customerName2\tLast Name: customerLastName2\tEmail: customer2@email.com\n",
      "Name: customerName3\tLast Name: customerLastName3\tEmail: customer3@email.com\n"
     ]
    }
   ],
   "source": [
    "conn = sqlite3.connect(\"customers.db\")\n",
    "\n",
    "# Create a cursor\n",
    "c = conn.cursor()\n",
    "\n",
    "c.execute(\"SELECT * FROM customers WHERE first_name LIKE 'customer%' \")\n",
    "\n",
    "\n",
    "items = c.fetchall()\n",
    "\n",
    "for item in items:\n",
    "    print(\"Name: \" + item[0] + \"\\tLast Name: \" + item[1] + \"\\tEmail: \" + item[2])\n",
    "\n",
    "conn.commit()\n",
    "conn.close()"
   ]
  },
  {
   "cell_type": "markdown",
   "id": "ee4acdd1",
   "metadata": {},
   "source": [
    "## Update record\n",
    "<code>c.execute(\"\"\" UPDATE customers SET first_name = 'Jimmy'\n",
    "               WHERE first_name = 'customerName3'\"\"\")\n",
    "</code>\n",
    "The code in the lines above works, but it is not ideally and/or correct because there may be different records with similar parts; like in this case there may be a lot of customers with the name of 'customerName3' the best thing to do is to search it with the row id like this: First we search for the rowid"
   ]
  },
  {
   "cell_type": "code",
   "execution_count": 9,
   "id": "cbd04b54",
   "metadata": {
    "scrolled": true
   },
   "outputs": [
    {
     "name": "stdout",
     "output_type": "stream",
     "text": [
      "(1, 'customerName', 'customerLastName', 'customer@email.com')\n",
      "(2, 'Minoo', 'Sayyadpour', 'minoosayyadpour34@gmail.com')\n",
      "(3, 'customerName1', 'customerLastName1', 'customer1@email.com')\n",
      "(4, 'customerName2', 'customerLastName2', 'customer2@email.com')\n",
      "(5, 'customerName3', 'customerLastName3', 'customer3@email.com')\n",
      "[('customerName', 'customerLastName', 'customer@email.com'), ('Jimmy', 'Sayyadpour', 'minoosayyadpour34@gmail.com'), ('customerName1', 'customerLastName1', 'customer1@email.com'), ('customerName2', 'customerLastName2', 'customer2@email.com'), ('customerName3', 'customerLastName3', 'customer3@email.com')]\n"
     ]
    }
   ],
   "source": [
    "conn = sqlite3.connect(\"customers.db\")\n",
    "c = conn.cursor()\n",
    "\n",
    "\n",
    "c.execute(\"SELECT rowid, * FROM customers\")\n",
    "\n",
    "items = c.fetchall()\n",
    "\n",
    "for item in items:\n",
    "    print(item)\n",
    "\n",
    "c.execute(\"\"\" UPDATE customers SET first_name = 'Jimmy'\n",
    "              WHERE rowid = 2\"\"\")\n",
    "\n",
    "conn.commit()\n",
    "\n",
    "c.execute(\"SELECT * FROM customers\")\n",
    "\n",
    "print(c.fetchall())"
   ]
  },
  {
   "cell_type": "markdown",
   "id": "300ab678",
   "metadata": {},
   "source": [
    "## Delete record"
   ]
  },
  {
   "cell_type": "code",
   "execution_count": 10,
   "id": "28a8205d",
   "metadata": {
    "scrolled": true
   },
   "outputs": [
    {
     "name": "stdout",
     "output_type": "stream",
     "text": [
      "[('customerName', 'customerLastName', 'customer@email.com'), ('Jimmy', 'Sayyadpour', 'minoosayyadpour34@gmail.com'), ('customerName2', 'customerLastName2', 'customer2@email.com'), ('customerName3', 'customerLastName3', 'customer3@email.com')]\n"
     ]
    }
   ],
   "source": [
    "c.execute(\"DELETE from customers WHERE rowid = 3\")  \n",
    "# Do not forget to use the WHERE with the DELETE\n",
    "\n",
    "conn.commit()\n",
    "\n",
    "c.execute(\"SELECT * FROM customers\")\n",
    "\n",
    "print(c.fetchall())\n",
    "\n",
    "conn.close()\n"
   ]
  },
  {
   "cell_type": "markdown",
   "id": "13213d4f",
   "metadata": {},
   "source": [
    "## Ordering results\n",
    "By default the database order the results by the rowid in ascending order. The keyword to ordering are:\n",
    "- ASC == ascending\n",
    "- DESC == descending\n",
    "- and you can combine and mix them like: ex. ORDER BY last_name DESC"
   ]
  },
  {
   "cell_type": "code",
   "execution_count": 11,
   "id": "591565ca",
   "metadata": {},
   "outputs": [
    {
     "name": "stdout",
     "output_type": "stream",
     "text": [
      "[('customerName', 'customerLastName', 'customer@email.com'), ('Jimmy', 'Sayyadpour', 'minoosayyadpour34@gmail.com'), ('customerName2', 'customerLastName2', 'customer2@email.com'), ('customerName3', 'customerLastName3', 'customer3@email.com')]\n"
     ]
    }
   ],
   "source": [
    "conn = sqlite3.connect(\"customers.db\")\n",
    "c = conn.cursor()\n",
    "\n",
    "\n",
    "c.execute(\"SELECT rowid, * FROM customers ORDER BY last_name\")\n",
    "\n",
    "\n",
    "conn.commit()\n",
    "c.execute(\"SELECT * FROM customers\")\n",
    "print(c.fetchall())\n",
    "conn.close()\n"
   ]
  },
  {
   "cell_type": "markdown",
   "id": "692fc0d1",
   "metadata": {},
   "source": [
    "## AND , OR Ordering results\n",
    "AND & OR add more conditions to your WHERE cause"
   ]
  },
  {
   "cell_type": "code",
   "execution_count": 2,
   "id": "5aa5a4d0",
   "metadata": {},
   "outputs": [
    {
     "name": "stdout",
     "output_type": "stream",
     "text": [
      "[('customerName', 'customerLastName', 'customer@email.com'), ('Jimmy', 'Sayyadpour', 'minoosayyadpour34@gmail.com'), ('customerName2', 'customerLastName2', 'customer2@email.com'), ('customerName3', 'customerLastName3', 'customer3@email.com')]\n"
     ]
    }
   ],
   "source": [
    "import sqlite3\n",
    "\n",
    "conn = sqlite3.connect(\"customers.db\")\n",
    "c = conn.cursor()\n",
    "\n",
    "\n",
    "c.execute(\"SELECT rowid, * FROM customers WHERE last_name LIKE 'custumer%' AND rowid = 2\")\n",
    "\n",
    "conn.commit()\n",
    "\n",
    "c.execute(\"SELECT * FROM customers\")\n",
    "\n",
    "print(c.fetchall())\n",
    "conn.close()\n"
   ]
  },
  {
   "cell_type": "markdown",
   "id": "7c1c462c",
   "metadata": {},
   "source": [
    " You can mix this with ordering results and other things\n",
    "Example: <code> c.execute(\"SELECT rowid, * FROM customers ORDER BY rowid DESC LIMIT 2\") </code>"
   ]
  },
  {
   "cell_type": "code",
   "execution_count": 3,
   "id": "10459239",
   "metadata": {},
   "outputs": [
    {
     "name": "stdout",
     "output_type": "stream",
     "text": [
      "[('customerName', 'customerLastName', 'customer@email.com'), ('Jimmy', 'Sayyadpour', 'minoosayyadpour34@gmail.com'), ('customerName2', 'customerLastName2', 'customer2@email.com'), ('customerName3', 'customerLastName3', 'customer3@email.com')]\n"
     ]
    }
   ],
   "source": [
    "conn = sqlite3.connect(\"customers.db\")\n",
    "c = conn.cursor()\n",
    "\n",
    "# Ordering results\n",
    "# If there are too many records you can limit the results\n",
    "c.execute(\"SELECT rowid, * FROM customers LIMIT 2\")\n",
    "\n",
    "\n",
    "# Commit changes to db\n",
    "conn.commit()\n",
    "\n",
    "c.execute(\"SELECT * FROM customers\")\n",
    "\n",
    "print(c.fetchall())\n"
   ]
  },
  {
   "cell_type": "markdown",
   "id": "877d531b",
   "metadata": {},
   "source": [
    "## Delete table\n"
   ]
  },
  {
   "cell_type": "code",
   "execution_count": 4,
   "id": "74727589",
   "metadata": {},
   "outputs": [],
   "source": [
    "c.execute(\"DROP TABLE customers\")  # Once dropped (deleted) the table is gone\n",
    "\n",
    "# Commit changes to db\n",
    "conn.commit()\n",
    "\n",
    "# Close connection to db\n",
    "conn.close()\n"
   ]
  },
  {
   "cell_type": "markdown",
   "id": "53f7e70f",
   "metadata": {},
   "source": [
    "## Exercise \n",
    "Use some function to:\n",
    "- show all records\n",
    "- Add ONE new record to the table\n",
    "- Delete record from table\n",
    "- Add MANY records to DB\n",
    "- Delete record from table\n",
    "- Lookup for email\n"
   ]
  },
  {
   "cell_type": "code",
   "execution_count": 5,
   "id": "6ec16afb",
   "metadata": {},
   "outputs": [],
   "source": [
    "def show_all():\n",
    "    # Connect to database\n",
    "    conn = sqlite3.connect(\"customers.db\")\n",
    "\n",
    "    # Create a cursor\n",
    "    c = conn.cursor()\n",
    "\n",
    "    # Query database\n",
    "    c.execute(\"SELECT * FROM customers\")\n",
    "    items = c.fetchall()\n",
    "\n",
    "    # Show results\n",
    "    for item in items:\n",
    "        print(item)\n",
    "\n",
    "    # Commit changes\n",
    "    conn.commit()\n",
    "\n",
    "    # Close connection\n",
    "    conn.close()"
   ]
  },
  {
   "cell_type": "code",
   "execution_count": 6,
   "id": "fd9a983b",
   "metadata": {},
   "outputs": [],
   "source": [
    "def add_one(first, last, email):\n",
    "    # Connect to database\n",
    "    conn = sqlite3.connect(\"customers.db\")\n",
    "\n",
    "    # Create a cursor\n",
    "    c = conn.cursor()\n",
    "\n",
    "    # Query database\n",
    "    c.execute(\"INSERT INTO customers VALUES (?, ?, ?)\", (first, last, email))\n",
    "\n",
    "    # Commit changes\n",
    "    conn.commit()\n",
    "\n",
    "    # Close connection\n",
    "    conn.close()"
   ]
  },
  {
   "cell_type": "code",
   "execution_count": 7,
   "id": "375c1525",
   "metadata": {},
   "outputs": [],
   "source": [
    "def add_many(list_customers):\n",
    "    # Connect to database\n",
    "    conn = sqlite3.connect(\"customers.db\")\n",
    "\n",
    "    # Create a cursor\n",
    "    c = conn.cursor()\n",
    "\n",
    "    # Query database\n",
    "    c.executemany(\"INSERT INTO customers VALUES (?, ?, ?)\", list_customers)\n",
    "\n",
    "    # Commit changes\n",
    "    conn.commit()\n",
    "\n",
    "    # Close connection\n",
    "    conn.close()"
   ]
  },
  {
   "cell_type": "code",
   "execution_count": 9,
   "id": "1e6f7b64",
   "metadata": {},
   "outputs": [],
   "source": [
    "def delete_one(id):\n",
    "    # Connect to database\n",
    "    conn = sqlite3.connect(\"customers.db\")\n",
    "\n",
    "    # Create a cursor\n",
    "    c = conn.cursor()\n",
    "\n",
    "    # Query database\n",
    "    c.execute(\"DELETE from customers WHERE ROWID = (?)\", id)\n",
    "\n",
    "    # Commit changes\n",
    "    conn.commit()\n",
    "\n",
    "    # Close connection\n",
    "    conn.close()\n"
   ]
  },
  {
   "cell_type": "code",
   "execution_count": 8,
   "id": "cb5ebe14",
   "metadata": {},
   "outputs": [],
   "source": [
    "def email_lookup(email):\n",
    "    # Connect to database\n",
    "    conn = sqlite3.connect(\"customers.db\")\n",
    "\n",
    "    # Create a cursor\n",
    "    c = conn.cursor()\n",
    "\n",
    "    # Query database\n",
    "    c.execute(\"SELECT * FROM customers WHERE email = (?)\", email)\n",
    "    items = c.fetchall()\n",
    "\n",
    "    # Show results\n",
    "    for item in items:\n",
    "        print(item)\n",
    "\n",
    "    # Commit changes\n",
    "    conn.commit()\n",
    "\n",
    "    # Close connection\n",
    "    conn.close()"
   ]
  },
  {
   "cell_type": "markdown",
   "id": "ad5a60fe",
   "metadata": {},
   "source": [
    "**finish example app below:**"
   ]
  },
  {
   "cell_type": "code",
   "execution_count": 11,
   "id": "dd439844",
   "metadata": {},
   "outputs": [
    {
     "name": "stdout",
     "output_type": "stream",
     "text": [
      "\n",
      "Welcome to our example app.\n",
      "Options:\n",
      "    1. Create database (for first runs)\n",
      "    2. Add one record to database\n",
      "    3. Add many (3) records to database\n",
      "    4. Show records in database\n",
      "    5. Search a record in database with email\n",
      "    6. Delete one record from database\n",
      "    0. Exit\n",
      "    -----------------------------------------------------\n",
      "    \n"
     ]
    }
   ],
   "source": [
    "print(\"\\nWelcome to our example app.\")\n",
    "print(\"\"\"Options:\n",
    "    1. Create database (for first runs)\n",
    "    2. Add one record to database\n",
    "    3. Add many (3) records to database\n",
    "    4. Show records in database\n",
    "    5. Search a record in database with email\n",
    "    6. Delete one record from database\n",
    "    0. Exit\n",
    "    -----------------------------------------------------\n",
    "    \"\"\")"
   ]
  }
 ],
 "metadata": {
  "kernelspec": {
   "display_name": "Python 3 (ipykernel)",
   "language": "python",
   "name": "python3"
  },
  "language_info": {
   "codemirror_mode": {
    "name": "ipython",
    "version": 3
   },
   "file_extension": ".py",
   "mimetype": "text/x-python",
   "name": "python",
   "nbconvert_exporter": "python",
   "pygments_lexer": "ipython3",
   "version": "3.10.6"
  }
 },
 "nbformat": 4,
 "nbformat_minor": 5
}
