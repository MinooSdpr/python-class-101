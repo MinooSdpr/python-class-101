{
 "cells": [
  {
   "cell_type": "markdown",
   "id": "4885c5c4",
   "metadata": {},
   "source": [
    "# Number Data Type and Arithmetic in Python!\n",
    "\n",
    "In this lecture, we will learn about numbers in Python and how to use them.\n",
    "\n",
    "We'll learn about the following topics:\n",
    "\n",
    "    1.) Types of Numbers in Python\n",
    "    2.) Basic Arithmetic\n",
    "    3.) Differences between classic division and floor division\n",
    "    4.) Object Assignment in Python"
   ]
  },
  {
   "cell_type": "markdown",
   "id": "f7353e1f",
   "metadata": {},
   "source": [
    "### Basic Arithmetic"
   ]
  },
  {
   "cell_type": "code",
   "execution_count": 1,
   "id": "c25140c1",
   "metadata": {},
   "outputs": [
    {
     "name": "stdout",
     "output_type": "stream",
     "text": [
      "3\n"
     ]
    }
   ],
   "source": [
    "# Addition\n",
    "print(2+1)"
   ]
  },
  {
   "cell_type": "code",
   "execution_count": 40,
   "id": "a4cd0064",
   "metadata": {},
   "outputs": [
    {
     "data": {
      "text/plain": [
       "1"
      ]
     },
     "execution_count": 40,
     "metadata": {},
     "output_type": "execute_result"
    }
   ],
   "source": [
    "# Subtraction\n",
    "2-1"
   ]
  },
  {
   "cell_type": "code",
   "execution_count": 3,
   "id": "9d7b5de0",
   "metadata": {},
   "outputs": [
    {
     "data": {
      "text/plain": [
       "4"
      ]
     },
     "execution_count": 3,
     "metadata": {},
     "output_type": "execute_result"
    }
   ],
   "source": [
    "# Multiplication\n",
    "2*2"
   ]
  },
  {
   "cell_type": "code",
   "execution_count": 4,
   "id": "a7406760",
   "metadata": {},
   "outputs": [
    {
     "data": {
      "text/plain": [
       "1.5"
      ]
     },
     "execution_count": 4,
     "metadata": {},
     "output_type": "execute_result"
    }
   ],
   "source": [
    "# Division\n",
    "3/2"
   ]
  },
  {
   "cell_type": "code",
   "execution_count": 4,
   "id": "4a1e3939",
   "metadata": {},
   "outputs": [
    {
     "data": {
      "text/plain": [
       "1"
      ]
     },
     "execution_count": 4,
     "metadata": {},
     "output_type": "execute_result"
    }
   ],
   "source": [
    "# Floor Division\n",
    "7//4"
   ]
  },
  {
   "cell_type": "markdown",
   "id": "db1f9f4e",
   "metadata": {},
   "source": [
    "We get this result is because we are using \"*floor*\" division. The // operator (two forward slashes) truncates the decimal without rounding, and returns an integer result."
   ]
  },
  {
   "cell_type": "code",
   "execution_count": 5,
   "id": "84d2ce8d",
   "metadata": {},
   "outputs": [
    {
     "data": {
      "text/plain": [
       "3"
      ]
     },
     "execution_count": 5,
     "metadata": {},
     "output_type": "execute_result"
    }
   ],
   "source": [
    "# Modulo\n",
    "7%4"
   ]
  },
  {
   "cell_type": "markdown",
   "id": "afd19867",
   "metadata": {},
   "source": [
    "The % operator returns the remainder after division."
   ]
  },
  {
   "cell_type": "code",
   "execution_count": 6,
   "id": "732b3492",
   "metadata": {},
   "outputs": [
    {
     "data": {
      "text/plain": [
       "8"
      ]
     },
     "execution_count": 6,
     "metadata": {},
     "output_type": "execute_result"
    }
   ],
   "source": [
    "# Powers\n",
    "2**3"
   ]
  },
  {
   "cell_type": "code",
   "execution_count": 8,
   "id": "71960d2d",
   "metadata": {},
   "outputs": [
    {
     "data": {
      "text/plain": [
       "2.0"
      ]
     },
     "execution_count": 8,
     "metadata": {},
     "output_type": "execute_result"
    }
   ],
   "source": [
    "# do roots this way\n",
    "4**0.5"
   ]
  },
  {
   "cell_type": "code",
   "execution_count": 7,
   "id": "4ec30a05",
   "metadata": {},
   "outputs": [
    {
     "data": {
      "text/plain": [
       "3.0"
      ]
     },
     "execution_count": 7,
     "metadata": {},
     "output_type": "execute_result"
    }
   ],
   "source": [
    "27**(1/3)"
   ]
  },
  {
   "cell_type": "code",
   "execution_count": 8,
   "id": "f1b9dff0",
   "metadata": {},
   "outputs": [
    {
     "data": {
      "text/plain": [
       "105"
      ]
     },
     "execution_count": 8,
     "metadata": {},
     "output_type": "execute_result"
    }
   ],
   "source": [
    "# Order of Operations followed in Python\n",
    "2 + 10 * 10 + 3"
   ]
  },
  {
   "cell_type": "code",
   "execution_count": 9,
   "id": "c5db5f0c",
   "metadata": {},
   "outputs": [
    {
     "data": {
      "text/plain": [
       "156"
      ]
     },
     "execution_count": 9,
     "metadata": {},
     "output_type": "execute_result"
    }
   ],
   "source": [
    "# Can use parentheses to specify orders\n",
    "(2+10) * (10+3)"
   ]
  },
  {
   "cell_type": "markdown",
   "id": "a777724f",
   "metadata": {},
   "source": [
    "## Variable Assignments\n",
    "\n",
    "We use a single equals sign to assign labels to variables. Variable assignment follows `name = object`, where a single equals sign `=` is an *assignment operator*"
   ]
  },
  {
   "cell_type": "code",
   "execution_count": 10,
   "id": "a245e4cb",
   "metadata": {},
   "outputs": [],
   "source": [
    "a = 5"
   ]
  },
  {
   "cell_type": "code",
   "execution_count": 11,
   "id": "ab3c03ea",
   "metadata": {},
   "outputs": [
    {
     "data": {
      "text/plain": [
       "10"
      ]
     },
     "execution_count": 11,
     "metadata": {},
     "output_type": "execute_result"
    }
   ],
   "source": [
    "a+a"
   ]
  },
  {
   "cell_type": "code",
   "execution_count": 12,
   "id": "db13df86",
   "metadata": {},
   "outputs": [],
   "source": [
    "a = 20"
   ]
  },
  {
   "cell_type": "code",
   "execution_count": 13,
   "id": "24a29a01",
   "metadata": {},
   "outputs": [
    {
     "data": {
      "text/plain": [
       "20"
      ]
     },
     "execution_count": 13,
     "metadata": {},
     "output_type": "execute_result"
    }
   ],
   "source": [
    "# Check\n",
    "a"
   ]
  },
  {
   "cell_type": "code",
   "execution_count": 14,
   "id": "48ec7784",
   "metadata": {},
   "outputs": [],
   "source": [
    "# Use A to redefine A\n",
    "a = a + a"
   ]
  },
  {
   "cell_type": "code",
   "execution_count": 4,
   "id": "0a830435",
   "metadata": {},
   "outputs": [
    {
     "data": {
      "text/plain": [
       "40"
      ]
     },
     "execution_count": 4,
     "metadata": {},
     "output_type": "execute_result"
    }
   ],
   "source": [
    "a"
   ]
  },
  {
   "cell_type": "code",
   "execution_count": 15,
   "id": "cc9821e9",
   "metadata": {},
   "outputs": [
    {
     "name": "stdout",
     "output_type": "stream",
     "text": [
      "25000000\n",
      "25000000\n"
     ]
    }
   ],
   "source": [
    "num1 = 25_000_000\n",
    "num2 = 25000000\n",
    "print(num1)\n",
    "print(num2)"
   ]
  },
  {
   "cell_type": "code",
   "execution_count": 16,
   "id": "69296f5a",
   "metadata": {
    "scrolled": true
   },
   "outputs": [
    {
     "name": "stdout",
     "output_type": "stream",
     "text": [
      "175000.0\n",
      "inf\n"
     ]
    }
   ],
   "source": [
    "num = 1.75e5\n",
    "print(num)\n",
    "print(2e308)"
   ]
  },
  {
   "cell_type": "markdown",
   "id": "80eb9a3c",
   "metadata": {},
   "source": [
    "## Variable Name Rules\n",
    "The names you use when creating these labels need to follow a few rules:\n",
    "\n",
    "    1. Names can not start with a number.\n",
    "    2. There can be no spaces in the name, use _ instead.\n",
    "    3. Can't use any of these symbols :'\",<>/?|\\()!@#$%^&*~-+\n",
    "    4. Avoid using words that have special meaning in Python like \"list\" and \"str\"\n",
    "    + 5. It's considered best practice (PEP8) that names are lowercase.\n",
    "    + 6. Avoid using the characters 'l' (lowercase letter el), 'O' (uppercase letter oh), \n",
    "       or 'I' (uppercase letter eye) as single character variable names."
   ]
  },
  {
   "cell_type": "code",
   "execution_count": 19,
   "id": "12d69e6d",
   "metadata": {},
   "outputs": [],
   "source": [
    "my_income = 100\n",
    "\n",
    "tax_rate = 0.1\n",
    "\n",
    "my_taxes = my_income*tax_rate"
   ]
  },
  {
   "cell_type": "code",
   "execution_count": 20,
   "id": "41096190",
   "metadata": {
    "scrolled": true
   },
   "outputs": [
    {
     "data": {
      "text/plain": [
       "10.0"
      ]
     },
     "execution_count": 20,
     "metadata": {},
     "output_type": "execute_result"
    }
   ],
   "source": [
    "my_taxes"
   ]
  },
  {
   "cell_type": "markdown",
   "id": "682bfa1b",
   "metadata": {},
   "source": [
    "## Reassigning Variables"
   ]
  },
  {
   "cell_type": "markdown",
   "id": "05e73731",
   "metadata": {},
   "source": [
    "There's actually a shortcut for this. Python lets you add, subtract, multiply and divide numbers with reassignment using `+=`, `-=`, `*=`, and `/=`."
   ]
  },
  {
   "cell_type": "code",
   "execution_count": 5,
   "id": "67d1e4ed",
   "metadata": {},
   "outputs": [
    {
     "data": {
      "text/plain": [
       "50"
      ]
     },
     "execution_count": 5,
     "metadata": {},
     "output_type": "execute_result"
    }
   ],
   "source": [
    "a += 10\n",
    "a"
   ]
  },
  {
   "cell_type": "code",
   "execution_count": 6,
   "id": "82d83ab3",
   "metadata": {},
   "outputs": [
    {
     "data": {
      "text/plain": [
       "100"
      ]
     },
     "execution_count": 6,
     "metadata": {},
     "output_type": "execute_result"
    }
   ],
   "source": [
    "a *= 2\n",
    "a"
   ]
  },
  {
   "cell_type": "code",
   "execution_count": 7,
   "id": "73b65bf7",
   "metadata": {},
   "outputs": [
    {
     "data": {
      "text/plain": [
       "100"
      ]
     },
     "execution_count": 7,
     "metadata": {},
     "output_type": "execute_result"
    }
   ],
   "source": [
    "a"
   ]
  },
  {
   "cell_type": "markdown",
   "id": "0b6b91d5",
   "metadata": {},
   "source": [
    "## Determining variable type\n",
    "You can check what type of object is assigned to a variable using Python's built-in `type()` function. Common data types include:\n",
    "* **int** (for integer)\n",
    "* **float**\n",
    "* **str** (for string)\n",
    "* **list**\n",
    "* **tuple**\n",
    "* **dict** (for dictionary)\n",
    "* **set**\n",
    "* **bool** (for Boolean True/False)"
   ]
  },
  {
   "cell_type": "code",
   "execution_count": 27,
   "id": "44a46caf",
   "metadata": {},
   "outputs": [
    {
     "data": {
      "text/plain": [
       "int"
      ]
     },
     "execution_count": 27,
     "metadata": {},
     "output_type": "execute_result"
    }
   ],
   "source": [
    "type(a)"
   ]
  },
  {
   "cell_type": "code",
   "execution_count": 16,
   "id": "754afe90",
   "metadata": {},
   "outputs": [
    {
     "name": "stdout",
     "output_type": "stream",
     "text": [
      "<class 'bool'>\n",
      "True\n",
      "False\n",
      "20\n"
     ]
    }
   ],
   "source": [
    "#Boolean\n",
    "t, f = True, False\n",
    "print(type(t))\n",
    "print(t)\n",
    "print(f)\n",
    "print(c)"
   ]
  },
  {
   "cell_type": "code",
   "execution_count": 17,
   "id": "711a99af",
   "metadata": {},
   "outputs": [
    {
     "name": "stdout",
     "output_type": "stream",
     "text": [
      "12 7 33 23\n"
     ]
    }
   ],
   "source": [
    "#swapping\n",
    "data1 = 7 \n",
    "data2 = 12\n",
    "data3 = 23\n",
    "data4 = 33\n",
    "\n",
    "data1, data2, data3 , data4 = data2 , data1, data4, data3\n",
    "\n",
    "print(data1, data2, data3, data4)"
   ]
  },
  {
   "cell_type": "code",
   "execution_count": 18,
   "id": "5cffcc67",
   "metadata": {},
   "outputs": [
    {
     "data": {
      "text/plain": [
       "102"
      ]
     },
     "execution_count": 18,
     "metadata": {},
     "output_type": "execute_result"
    }
   ],
   "source": [
    "35+67"
   ]
  },
  {
   "cell_type": "code",
   "execution_count": 4,
   "id": "54aac85d",
   "metadata": {},
   "outputs": [
    {
     "data": {
      "text/plain": [
       "'3567'"
      ]
     },
     "execution_count": 4,
     "metadata": {},
     "output_type": "execute_result"
    }
   ],
   "source": [
    "\"35\"+\"67\""
   ]
  },
  {
   "cell_type": "code",
   "execution_count": 21,
   "id": "a6d8cd54",
   "metadata": {},
   "outputs": [
    {
     "ename": "TypeError",
     "evalue": "unsupported operand type(s) for +: 'int' and 'str'",
     "output_type": "error",
     "traceback": [
      "\u001b[1;31m---------------------------------------------------------------------------\u001b[0m",
      "\u001b[1;31mTypeError\u001b[0m                                 Traceback (most recent call last)",
      "Cell \u001b[1;32mIn [21], line 1\u001b[0m\n\u001b[1;32m----> 1\u001b[0m \u001b[38;5;241;43m1\u001b[39;49m\u001b[38;5;241;43m+\u001b[39;49m\u001b[38;5;124;43m'\u001b[39;49m\u001b[38;5;124;43m2\u001b[39;49m\u001b[38;5;124;43m'\u001b[39;49m\n",
      "\u001b[1;31mTypeError\u001b[0m: unsupported operand type(s) for +: 'int' and 'str'"
     ]
    }
   ],
   "source": [
    "1+'2'"
   ]
  },
  {
   "cell_type": "markdown",
   "id": "207ba29f",
   "metadata": {},
   "source": [
    "## Some Important functions"
   ]
  },
  {
   "cell_type": "code",
   "execution_count": 22,
   "id": "24fa91a4",
   "metadata": {},
   "outputs": [
    {
     "name": "stdout",
     "output_type": "stream",
     "text": [
      "40\n",
      "hello world\n"
     ]
    }
   ],
   "source": [
    "print(a)\n",
    "print('hello world')"
   ]
  },
  {
   "cell_type": "code",
   "execution_count": 23,
   "id": "c2a14349",
   "metadata": {},
   "outputs": [
    {
     "name": "stdout",
     "output_type": "stream",
     "text": [
      "write something 123456\n",
      "what you wrote was :  123456\n"
     ]
    }
   ],
   "source": [
    "a = input('write something ')\n",
    "print('what you wrote was : ',a)"
   ]
  },
  {
   "cell_type": "code",
   "execution_count": 2,
   "id": "b7d918a8",
   "metadata": {},
   "outputs": [
    {
     "name": "stdout",
     "output_type": "stream",
     "text": [
      "Enter a number 8\n",
      "24.0\n"
     ]
    }
   ],
   "source": [
    "num1 = float(input('Enter a number '))\n",
    "num1*=3\n",
    "print(num1)"
   ]
  },
  {
   "cell_type": "markdown",
   "id": "56e2ef75",
   "metadata": {},
   "source": [
    "- Get two numbers from user one for base and one for power."
   ]
  },
  {
   "cell_type": "code",
   "execution_count": 28,
   "id": "41854a2f",
   "metadata": {
    "scrolled": true
   },
   "outputs": [
    {
     "name": "stdout",
     "output_type": "stream",
     "text": [
      "Enter base number: 3\n",
      "Enter power: 5\n",
      "243\n"
     ]
    }
   ],
   "source": [
    "base = int(input('Enter base number: '))\n",
    "power = int(input('Enter power: '))\n",
    "print(base**power)"
   ]
  },
  {
   "cell_type": "markdown",
   "id": "cd988ab2",
   "metadata": {},
   "source": [
    "## Project"
   ]
  },
  {
   "cell_type": "code",
   "execution_count": 7,
   "id": "3a6ccc20",
   "metadata": {},
   "outputs": [
    {
     "name": "stdout",
     "output_type": "stream",
     "text": [
      "🧮 Welcome to the restaurant bill Calculator! 🧮\n",
      "What was the total bill? $2000\n",
      "What percentage tip would you like to give? 10, 12, or 15? 10\n",
      "How many people to split the bill? 5\n",
      "🧮 Each person should pay:  440.0\n"
     ]
    }
   ],
   "source": []
  },
  {
   "cell_type": "code",
   "execution_count": null,
   "id": "2eeb02c9",
   "metadata": {},
   "outputs": [],
   "source": []
  },
  {
   "cell_type": "markdown",
   "id": "0da3fc52",
   "metadata": {},
   "source": [
    "## Mathematical Functions"
   ]
  },
  {
   "cell_type": "code",
   "execution_count": 30,
   "id": "94a47516",
   "metadata": {},
   "outputs": [
    {
     "name": "stdout",
     "output_type": "stream",
     "text": [
      "Enter a number: 1.234567\n",
      "1.234567 rounded to 2 decimal places is 1.23\n"
     ]
    }
   ],
   "source": [
    "user_input = input(\"Enter a number: \")\n",
    "num = float(user_input)\n",
    "print(f\"{num} rounded to 2 decimal places is {round(num, 2)}\")"
   ]
  },
  {
   "cell_type": "code",
   "execution_count": 31,
   "id": "931712b0",
   "metadata": {},
   "outputs": [
    {
     "name": "stdout",
     "output_type": "stream",
     "text": [
      "Enter a number: -123\n",
      "The absolute value of -123.0 is 123.0\n"
     ]
    }
   ],
   "source": [
    "user_input = input(\"Enter a number: \")\n",
    "num = float(user_input)\n",
    "print(f\"The absolute value of {num} is {abs(num)}\")"
   ]
  },
  {
   "cell_type": "code",
   "execution_count": 32,
   "id": "f64bd3ee",
   "metadata": {},
   "outputs": [
    {
     "name": "stdout",
     "output_type": "stream",
     "text": [
      "Enter a number: 12\n",
      "Enter another number: 14.5\n",
      "The difference between 12.0 and 14.5 is an integer? False!\n"
     ]
    }
   ],
   "source": [
    "num1 = float(input(\"Enter a number: \"))\n",
    "num2 = float(input(\"Enter another number: \"))\n",
    "print(f\"The difference between {num1} and {num2} is an integer? \"\n",
    "    f\"{(num1 - num2).is_integer()}!\")"
   ]
  },
  {
   "cell_type": "code",
   "execution_count": 33,
   "id": "1a08da12",
   "metadata": {},
   "outputs": [
    {
     "data": {
      "text/plain": [
       "True"
      ]
     },
     "execution_count": 33,
     "metadata": {},
     "output_type": "execute_result"
    }
   ],
   "source": [
    "isinstance(5.5,float) #5,int"
   ]
  },
  {
   "cell_type": "code",
   "execution_count": 34,
   "id": "b6ffb7b2",
   "metadata": {},
   "outputs": [
    {
     "data": {
      "text/plain": [
       "64"
      ]
     },
     "execution_count": 34,
     "metadata": {},
     "output_type": "execute_result"
    }
   ],
   "source": [
    "pow(4, 3) "
   ]
  },
  {
   "cell_type": "code",
   "execution_count": 35,
   "id": "b59422b7",
   "metadata": {},
   "outputs": [
    {
     "data": {
      "text/plain": [
       "'0o50'"
      ]
     },
     "execution_count": 35,
     "metadata": {},
     "output_type": "execute_result"
    }
   ],
   "source": [
    "oct(40)"
   ]
  },
  {
   "cell_type": "code",
   "execution_count": 36,
   "id": "6e13fa6b",
   "metadata": {},
   "outputs": [
    {
     "data": {
      "text/plain": [
       "'0xff'"
      ]
     },
     "execution_count": 36,
     "metadata": {},
     "output_type": "execute_result"
    }
   ],
   "source": [
    "hex(255)"
   ]
  },
  {
   "cell_type": "code",
   "execution_count": 37,
   "id": "7920e6cf",
   "metadata": {},
   "outputs": [
    {
     "data": {
      "text/plain": [
       "'0b100100'"
      ]
     },
     "execution_count": 37,
     "metadata": {},
     "output_type": "execute_result"
    }
   ],
   "source": [
    "bin(36)"
   ]
  },
  {
   "cell_type": "code",
   "execution_count": 38,
   "id": "7b1b8353",
   "metadata": {},
   "outputs": [
    {
     "name": "stdout",
     "output_type": "stream",
     "text": [
      "Help on built-in function hex in module builtins:\n",
      "\n",
      "hex(number, /)\n",
      "    Return the hexadecimal representation of an integer.\n",
      "    \n",
      "    >>> hex(12648430)\n",
      "    '0xc0ffee'\n",
      "\n"
     ]
    }
   ],
   "source": [
    "help(hex)"
   ]
  },
  {
   "cell_type": "code",
   "execution_count": 39,
   "id": "54484ac5",
   "metadata": {},
   "outputs": [
    {
     "data": {
      "text/plain": [
       "'c'"
      ]
     },
     "execution_count": 39,
     "metadata": {},
     "output_type": "execute_result"
    }
   ],
   "source": [
    "chr(99) #Convert back to unicode"
   ]
  },
  {
   "cell_type": "code",
   "execution_count": 22,
   "id": "b1763dbb",
   "metadata": {},
   "outputs": [
    {
     "data": {
      "text/plain": [
       "(3, 1)"
      ]
     },
     "execution_count": 22,
     "metadata": {},
     "output_type": "execute_result"
    }
   ],
   "source": [
    "divmod(10, 3) # returns the quotient  and the remainder"
   ]
  },
  {
   "cell_type": "markdown",
   "id": "45539fde",
   "metadata": {},
   "source": [
    "### minoosayyadpour3@gmail.com"
   ]
  }
 ],
 "metadata": {
  "kernelspec": {
   "display_name": "Python 3 (ipykernel)",
   "language": "python",
   "name": "python3"
  },
  "language_info": {
   "codemirror_mode": {
    "name": "ipython",
    "version": 3
   },
   "file_extension": ".py",
   "mimetype": "text/x-python",
   "name": "python",
   "nbconvert_exporter": "python",
   "pygments_lexer": "ipython3",
   "version": "3.10.6"
  }
 },
 "nbformat": 4,
 "nbformat_minor": 5
}
